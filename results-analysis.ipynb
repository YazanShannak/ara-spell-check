{
 "cells": [
  {
   "cell_type": "code",
   "execution_count": 7,
   "id": "95a700e4",
   "metadata": {},
   "outputs": [],
   "source": [
    "import os\n",
    "import numpy as np\n",
    "import pandas as pd\n",
    "import seaborn as sns\n",
    "from typing import Tuple\n",
    "from difflib import ndiff\n",
    "from matplotlib import pyplot as plt"
   ]
  },
  {
   "cell_type": "code",
   "execution_count": 2,
   "id": "deb03d01",
   "metadata": {},
   "outputs": [],
   "source": [
    "embedding_path = os.path.join(os.curdir, \"embedding-bahdanau.csv\")\n",
    "embedding_raw = pd.read_csv(filepath_or_buffer=embedding_path)\n",
    "\n",
    "onehot_path = os.path.join(os.curdir, \"onehot-bahdanau.csv\")\n",
    "onehot_raw = pd.read_csv(filepath_or_buffer=onehot_path)"
   ]
  },
  {
   "cell_type": "code",
   "execution_count": 3,
   "id": "bce10f01",
   "metadata": {},
   "outputs": [],
   "source": [
    "embedding = embedding_raw.copy(deep=True).groupby(by=[\"word_length\", \"char_length\"], as_index=False).mean()\n",
    "onehot = onehot_raw.copy(deep=True).groupby(by=[\"word_length\", \"char_length\"], as_index=False).mean()"
   ]
  },
  {
   "cell_type": "code",
   "execution_count": 4,
   "id": "4f20f691",
   "metadata": {},
   "outputs": [],
   "source": [
    "def get_correct_incorrect_ratios(results: pd.DataFrame) -> Tuple[float, float]:\n",
    "    total = len(results)\n",
    "    \n",
    "    correct = results[results[\"correct\"] == True]\n",
    "    incorrect = results[results[\"correct\"] == False]\n",
    "    \n",
    "    return len(correct) / total, len(incorrect) / total"
   ]
  },
  {
   "cell_type": "code",
   "execution_count": 19,
   "id": "9ec58581",
   "metadata": {},
   "outputs": [
    {
     "name": "stdout",
     "output_type": "stream",
     "text": [
      "subtract - ق\n",
      "add + ف\n"
     ]
    }
   ],
   "source": [
    "for d in ndiff(a=embedding_raw.loc[20, \"source\"], b=embedding_raw.loc[20, \"target\"]):\n",
    "    if d[0] == \"\":\n",
    "        continue\n",
    "    if d[0] == \"-\":\n",
    "        print(\"subtract\", d)\n",
    "    if d[0] == \"+\":\n",
    "        print(\"add\", d)"
   ]
  },
  {
   "cell_type": "code",
   "execution_count": 20,
   "id": "2374b29c",
   "metadata": {},
   "outputs": [
    {
     "data": {
      "text/plain": [
       "('بما قي ذلك واحد على الأقل في لوس انجليس',\n",
       " 'بما في ذلك واحد على الأقل في لوس انجليس')"
      ]
     },
     "execution_count": 20,
     "metadata": {},
     "output_type": "execute_result"
    }
   ],
   "source": [
    "embedding_raw.loc[20, \"source\"], embedding_raw.loc[20, \"target\"]"
   ]
  },
  {
   "cell_type": "code",
   "execution_count": 6,
   "id": "ab10ffe0",
   "metadata": {},
   "outputs": [
    {
     "data": {
      "text/html": [
       "<div>\n",
       "<style scoped>\n",
       "    .dataframe tbody tr th:only-of-type {\n",
       "        vertical-align: middle;\n",
       "    }\n",
       "\n",
       "    .dataframe tbody tr th {\n",
       "        vertical-align: top;\n",
       "    }\n",
       "\n",
       "    .dataframe thead th {\n",
       "        text-align: right;\n",
       "    }\n",
       "</style>\n",
       "<table border=\"1\" class=\"dataframe\">\n",
       "  <thead>\n",
       "    <tr style=\"text-align: right;\">\n",
       "      <th></th>\n",
       "      <th>matching ratio</th>\n",
       "      <th>precision</th>\n",
       "      <th>recall</th>\n",
       "      <th>f1</th>\n",
       "      <th>char_length</th>\n",
       "      <th>word_length</th>\n",
       "    </tr>\n",
       "  </thead>\n",
       "  <tbody>\n",
       "    <tr>\n",
       "      <th>count</th>\n",
       "      <td>1.076273e+06</td>\n",
       "      <td>1.076273e+06</td>\n",
       "      <td>1.076273e+06</td>\n",
       "      <td>1.076273e+06</td>\n",
       "      <td>1.076273e+06</td>\n",
       "      <td>1.076273e+06</td>\n",
       "    </tr>\n",
       "    <tr>\n",
       "      <th>mean</th>\n",
       "      <td>9.749036e-01</td>\n",
       "      <td>9.042038e-01</td>\n",
       "      <td>9.035964e-01</td>\n",
       "      <td>9.038435e-01</td>\n",
       "      <td>3.933122e+01</td>\n",
       "      <td>7.154772e+00</td>\n",
       "    </tr>\n",
       "    <tr>\n",
       "      <th>std</th>\n",
       "      <td>4.580857e-02</td>\n",
       "      <td>2.105517e-01</td>\n",
       "      <td>2.113663e-01</td>\n",
       "      <td>2.109375e-01</td>\n",
       "      <td>1.761026e+01</td>\n",
       "      <td>3.032473e+00</td>\n",
       "    </tr>\n",
       "    <tr>\n",
       "      <th>min</th>\n",
       "      <td>1.111111e-01</td>\n",
       "      <td>0.000000e+00</td>\n",
       "      <td>0.000000e+00</td>\n",
       "      <td>0.000000e+00</td>\n",
       "      <td>4.000000e+00</td>\n",
       "      <td>2.000000e+00</td>\n",
       "    </tr>\n",
       "    <tr>\n",
       "      <th>25%</th>\n",
       "      <td>9.666667e-01</td>\n",
       "      <td>9.400000e-01</td>\n",
       "      <td>9.393939e-01</td>\n",
       "      <td>9.393939e-01</td>\n",
       "      <td>2.400000e+01</td>\n",
       "      <td>4.000000e+00</td>\n",
       "    </tr>\n",
       "    <tr>\n",
       "      <th>50%</th>\n",
       "      <td>1.000000e+00</td>\n",
       "      <td>1.000000e+00</td>\n",
       "      <td>1.000000e+00</td>\n",
       "      <td>1.000000e+00</td>\n",
       "      <td>4.000000e+01</td>\n",
       "      <td>7.000000e+00</td>\n",
       "    </tr>\n",
       "    <tr>\n",
       "      <th>75%</th>\n",
       "      <td>1.000000e+00</td>\n",
       "      <td>1.000000e+00</td>\n",
       "      <td>1.000000e+00</td>\n",
       "      <td>1.000000e+00</td>\n",
       "      <td>5.400000e+01</td>\n",
       "      <td>1.000000e+01</td>\n",
       "    </tr>\n",
       "    <tr>\n",
       "      <th>max</th>\n",
       "      <td>1.000000e+00</td>\n",
       "      <td>1.200000e+00</td>\n",
       "      <td>1.000000e+00</td>\n",
       "      <td>1.000000e+00</td>\n",
       "      <td>1.130000e+02</td>\n",
       "      <td>1.100000e+01</td>\n",
       "    </tr>\n",
       "  </tbody>\n",
       "</table>\n",
       "</div>"
      ],
      "text/plain": [
       "       matching ratio     precision        recall            f1   char_length  \\\n",
       "count    1.076273e+06  1.076273e+06  1.076273e+06  1.076273e+06  1.076273e+06   \n",
       "mean     9.749036e-01  9.042038e-01  9.035964e-01  9.038435e-01  3.933122e+01   \n",
       "std      4.580857e-02  2.105517e-01  2.113663e-01  2.109375e-01  1.761026e+01   \n",
       "min      1.111111e-01  0.000000e+00  0.000000e+00  0.000000e+00  4.000000e+00   \n",
       "25%      9.666667e-01  9.400000e-01  9.393939e-01  9.393939e-01  2.400000e+01   \n",
       "50%      1.000000e+00  1.000000e+00  1.000000e+00  1.000000e+00  4.000000e+01   \n",
       "75%      1.000000e+00  1.000000e+00  1.000000e+00  1.000000e+00  5.400000e+01   \n",
       "max      1.000000e+00  1.200000e+00  1.000000e+00  1.000000e+00  1.130000e+02   \n",
       "\n",
       "        word_length  \n",
       "count  1.076273e+06  \n",
       "mean   7.154772e+00  \n",
       "std    3.032473e+00  \n",
       "min    2.000000e+00  \n",
       "25%    4.000000e+00  \n",
       "50%    7.000000e+00  \n",
       "75%    1.000000e+01  \n",
       "max    1.100000e+01  "
      ]
     },
     "execution_count": 6,
     "metadata": {},
     "output_type": "execute_result"
    }
   ],
   "source": [
    "embedding_raw.describe()"
   ]
  },
  {
   "cell_type": "code",
   "execution_count": null,
   "id": "b6528112",
   "metadata": {},
   "outputs": [],
   "source": []
  }
 ],
 "metadata": {
  "kernelspec": {
   "display_name": "Python 3 (ipykernel)",
   "language": "python",
   "name": "python3"
  },
  "language_info": {
   "codemirror_mode": {
    "name": "ipython",
    "version": 3
   },
   "file_extension": ".py",
   "mimetype": "text/x-python",
   "name": "python",
   "nbconvert_exporter": "python",
   "pygments_lexer": "ipython3",
   "version": "3.9.7"
  }
 },
 "nbformat": 4,
 "nbformat_minor": 5
}

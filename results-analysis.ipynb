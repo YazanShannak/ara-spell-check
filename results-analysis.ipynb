{
 "cells": [
  {
   "cell_type": "code",
   "execution_count": 1,
   "id": "95a700e4",
   "metadata": {},
   "outputs": [],
   "source": [
    "import os\n",
    "import numpy as np\n",
    "import pandas as pd\n",
    "import seaborn as sns\n",
    "from matplotlib import pyplot as plt"
   ]
  },
  {
   "cell_type": "code",
   "execution_count": 2,
   "id": "deb03d01",
   "metadata": {},
   "outputs": [],
   "source": [
    "path = os.path.join(os.curdir, \"embedding-bahdanau.csv\")\n",
    "raw = pd.read_csv(filepath_or_buffer=path)"
   ]
  },
  {
   "cell_type": "code",
   "execution_count": 15,
   "id": "bce10f01",
   "metadata": {},
   "outputs": [],
   "source": [
    "results = raw.copy(deep=True)"
   ]
  },
  {
   "cell_type": "code",
   "execution_count": 16,
   "id": "28c9f557",
   "metadata": {},
   "outputs": [],
   "source": [
    "results[\"f1\"] = (results[\"f1\"] * 100).round(2)\n",
    "results[\"recall\"] = (results[\"recall\"] * 100).round(2)\n",
    "results[\"precision\"] = (results[\"precision\"] * 100).round(2)"
   ]
  },
  {
   "cell_type": "code",
   "execution_count": 19,
   "id": "c36c0a03",
   "metadata": {},
   "outputs": [],
   "source": [
    "correct = results[results[\"correct\"] == True]\n",
    "incorrect = results[results[\"correct\"] == False]"
   ]
  },
  {
   "cell_type": "code",
   "execution_count": 25,
   "id": "363cd6a7",
   "metadata": {},
   "outputs": [
    {
     "data": {
      "text/plain": [
       "57.52481015504431"
      ]
     },
     "execution_count": 25,
     "metadata": {},
     "output_type": "execute_result"
    }
   ],
   "source": [
    "len(correct) / len(results) * 100"
   ]
  },
  {
   "cell_type": "code",
   "execution_count": 26,
   "id": "111d3583",
   "metadata": {},
   "outputs": [
    {
     "data": {
      "text/plain": [
       "42.47518984495569"
      ]
     },
     "execution_count": 26,
     "metadata": {},
     "output_type": "execute_result"
    }
   ],
   "source": [
    "len(incorrect) / len(results) * 100"
   ]
  },
  {
   "cell_type": "code",
   "execution_count": null,
   "id": "9059ae08",
   "metadata": {},
   "outputs": [],
   "source": []
  }
 ],
 "metadata": {
  "kernelspec": {
   "display_name": "Python 3 (ipykernel)",
   "language": "python",
   "name": "python3"
  },
  "language_info": {
   "codemirror_mode": {
    "name": "ipython",
    "version": 3
   },
   "file_extension": ".py",
   "mimetype": "text/x-python",
   "name": "python",
   "nbconvert_exporter": "python",
   "pygments_lexer": "ipython3",
   "version": "3.9.7"
  }
 },
 "nbformat": 4,
 "nbformat_minor": 5
}
